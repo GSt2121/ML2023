{
 "cells": [
  {
   "cell_type": "code",
   "execution_count": 61,
   "id": "2f8244f8-c995-4fb7-b818-730696ff0f72",
   "metadata": {},
   "outputs": [
    {
     "data": {
      "text/html": [
       "<div>\n",
       "<style scoped>\n",
       "    .dataframe tbody tr th:only-of-type {\n",
       "        vertical-align: middle;\n",
       "    }\n",
       "\n",
       "    .dataframe tbody tr th {\n",
       "        vertical-align: top;\n",
       "    }\n",
       "\n",
       "    .dataframe thead th {\n",
       "        text-align: right;\n",
       "    }\n",
       "</style>\n",
       "<table border=\"1\" class=\"dataframe\">\n",
       "  <thead>\n",
       "    <tr style=\"text-align: right;\">\n",
       "      <th></th>\n",
       "      <th>year</th>\n",
       "      <th>category</th>\n",
       "      <th>sequence</th>\n",
       "      <th>shortname</th>\n",
       "      <th>circuit_name</th>\n",
       "      <th>rider</th>\n",
       "      <th>rider_name</th>\n",
       "      <th>team_name</th>\n",
       "      <th>bike_name</th>\n",
       "      <th>position</th>\n",
       "      <th>points</th>\n",
       "      <th>number</th>\n",
       "      <th>country</th>\n",
       "      <th>speed</th>\n",
       "      <th>time</th>\n",
       "    </tr>\n",
       "  </thead>\n",
       "  <tbody>\n",
       "    <tr>\n",
       "      <th>0</th>\n",
       "      <td>2015</td>\n",
       "      <td>MotoGP</td>\n",
       "      <td>1</td>\n",
       "      <td>QAT</td>\n",
       "      <td>Losail</td>\n",
       "      <td>1762</td>\n",
       "      <td>Rossi, Valentino</td>\n",
       "      <td>Movistar Yamaha MotoGP</td>\n",
       "      <td>Yamaha</td>\n",
       "      <td>1</td>\n",
       "      <td>25</td>\n",
       "      <td>46</td>\n",
       "      <td>IT</td>\n",
       "      <td>None</td>\n",
       "      <td>42'35.717</td>\n",
       "    </tr>\n",
       "    <tr>\n",
       "      <th>1</th>\n",
       "      <td>2015</td>\n",
       "      <td>MotoGP</td>\n",
       "      <td>1</td>\n",
       "      <td>QAT</td>\n",
       "      <td>Losail</td>\n",
       "      <td>2055</td>\n",
       "      <td>Dovizioso, Andrea</td>\n",
       "      <td>Ducati Team</td>\n",
       "      <td>Ducati</td>\n",
       "      <td>2</td>\n",
       "      <td>20</td>\n",
       "      <td>4</td>\n",
       "      <td>IT</td>\n",
       "      <td>None</td>\n",
       "      <td>+0.174</td>\n",
       "    </tr>\n",
       "    <tr>\n",
       "      <th>2</th>\n",
       "      <td>2015</td>\n",
       "      <td>MotoGP</td>\n",
       "      <td>1</td>\n",
       "      <td>QAT</td>\n",
       "      <td>Losail</td>\n",
       "      <td>2158</td>\n",
       "      <td>Iannone, Andrea</td>\n",
       "      <td>Ducati Team</td>\n",
       "      <td>Ducati</td>\n",
       "      <td>3</td>\n",
       "      <td>16</td>\n",
       "      <td>29</td>\n",
       "      <td>IT</td>\n",
       "      <td>None</td>\n",
       "      <td>+2.250</td>\n",
       "    </tr>\n",
       "    <tr>\n",
       "      <th>3</th>\n",
       "      <td>2015</td>\n",
       "      <td>MotoGP</td>\n",
       "      <td>1</td>\n",
       "      <td>QAT</td>\n",
       "      <td>Losail</td>\n",
       "      <td>2058</td>\n",
       "      <td>Lorenzo, Jorge</td>\n",
       "      <td>Movistar Yamaha MotoGP</td>\n",
       "      <td>Yamaha</td>\n",
       "      <td>4</td>\n",
       "      <td>13</td>\n",
       "      <td>99</td>\n",
       "      <td>ES</td>\n",
       "      <td>None</td>\n",
       "      <td>+2.707</td>\n",
       "    </tr>\n",
       "    <tr>\n",
       "      <th>4</th>\n",
       "      <td>2015</td>\n",
       "      <td>MotoGP</td>\n",
       "      <td>1</td>\n",
       "      <td>QAT</td>\n",
       "      <td>Losail</td>\n",
       "      <td>2293</td>\n",
       "      <td>Marquez, Marc</td>\n",
       "      <td>Repsol Honda Team</td>\n",
       "      <td>Honda</td>\n",
       "      <td>5</td>\n",
       "      <td>11</td>\n",
       "      <td>93</td>\n",
       "      <td>ES</td>\n",
       "      <td>None</td>\n",
       "      <td>+7.036</td>\n",
       "    </tr>\n",
       "  </tbody>\n",
       "</table>\n",
       "</div>"
      ],
      "text/plain": [
       "   year category  sequence shortname circuit_name  rider         rider_name  \\\n",
       "0  2015   MotoGP         1       QAT       Losail   1762   Rossi, Valentino   \n",
       "1  2015   MotoGP         1       QAT       Losail   2055  Dovizioso, Andrea   \n",
       "2  2015   MotoGP         1       QAT       Losail   2158    Iannone, Andrea   \n",
       "3  2015   MotoGP         1       QAT       Losail   2058     Lorenzo, Jorge   \n",
       "4  2015   MotoGP         1       QAT       Losail   2293      Marquez, Marc   \n",
       "\n",
       "                team_name bike_name  position  points  number country speed  \\\n",
       "0  Movistar Yamaha MotoGP    Yamaha         1      25      46      IT  None   \n",
       "1             Ducati Team    Ducati         2      20       4      IT  None   \n",
       "2             Ducati Team    Ducati         3      16      29      IT  None   \n",
       "3  Movistar Yamaha MotoGP    Yamaha         4      13      99      ES  None   \n",
       "4       Repsol Honda Team     Honda         5      11      93      ES  None   \n",
       "\n",
       "        time  \n",
       "0  42'35.717  \n",
       "1     +0.174  \n",
       "2     +2.250  \n",
       "3     +2.707  \n",
       "4     +7.036  "
      ]
     },
     "execution_count": 61,
     "metadata": {},
     "output_type": "execute_result"
    }
   ],
   "source": [
    "import sys\n",
    "import pandas as pd\n",
    "races = pd.read_csv('races.csv')\n",
    "mean = races['speed'].mean()\n",
    "races['speed'] = races['speed'].fillna(mean, inplace=True)\n",
    "races.head()"
   ]
  },
  {
   "cell_type": "code",
   "execution_count": 62,
   "id": "03d6a43c-bca2-448f-9f20-e0da0da2ec49",
   "metadata": {},
   "outputs": [
    {
     "name": "stdout",
     "output_type": "stream",
     "text": [
      "<class 'pandas.core.frame.DataFrame'>\n",
      "RangeIndex: 2389 entries, 0 to 2388\n",
      "Data columns (total 15 columns):\n",
      " #   Column        Non-Null Count  Dtype \n",
      "---  ------        --------------  ----- \n",
      " 0   year          2389 non-null   int64 \n",
      " 1   category      2389 non-null   object\n",
      " 2   sequence      2389 non-null   int64 \n",
      " 3   shortname     2389 non-null   object\n",
      " 4   circuit_name  2389 non-null   object\n",
      " 5   rider         2389 non-null   int64 \n",
      " 6   rider_name    2389 non-null   object\n",
      " 7   team_name     2389 non-null   object\n",
      " 8   bike_name     2389 non-null   object\n",
      " 9   position      2389 non-null   int64 \n",
      " 10  points        2389 non-null   int64 \n",
      " 11  number        2389 non-null   int64 \n",
      " 12  country       2389 non-null   object\n",
      " 13  speed         0 non-null      object\n",
      " 14  time          2389 non-null   object\n",
      "dtypes: int64(6), object(9)\n",
      "memory usage: 280.1+ KB\n"
     ]
    }
   ],
   "source": [
    "races.info()"
   ]
  },
  {
   "cell_type": "code",
   "execution_count": 63,
   "id": "faf15d79",
   "metadata": {},
   "outputs": [
    {
     "name": "stdout",
     "output_type": "stream",
     "text": [
      "<class 'pandas.core.frame.DataFrame'>\n",
      "RangeIndex: 2389 entries, 0 to 2388\n",
      "Data columns (total 4 columns):\n",
      " #   Column        Non-Null Count  Dtype \n",
      "---  ------        --------------  ----- \n",
      " 0   circuit_name  2389 non-null   object\n",
      " 1   position      2389 non-null   int64 \n",
      " 2   country       2389 non-null   object\n",
      " 3   speed         0 non-null      object\n",
      "dtypes: int64(1), object(3)\n",
      "memory usage: 74.8+ KB\n"
     ]
    }
   ],
   "source": [
    "# Memilih hanya Racer Name, Racer, dan Bike name\n",
    "\n",
    "cols = [\n",
    "    'year',\n",
    "    'category',\n",
    "    'sequence',\n",
    "    'shortname',\n",
    "    'number',\n",
    "    'bike_name',\n",
    "    'rider_name',\n",
    "    'rider',\n",
    "    'team_name',\n",
    "    'rider',\n",
    "    'points',\n",
    "    'time'\n",
    "]\n",
    "\n",
    "races = races.drop(cols, axis=1)\n",
    "races.info()"
   ]
  },
  {
   "cell_type": "code",
   "execution_count": 64,
   "id": "983b210c",
   "metadata": {},
   "outputs": [
    {
     "data": {
      "text/plain": [
       "(circuit_name\n",
       " Ricardo Tormo     161\n",
       " Misano            158\n",
       " Jerez             158\n",
       " Aragón            156\n",
       " Catalunya         139\n",
       " Brno              137\n",
       " Le Mans           137\n",
       " Spielberg         133\n",
       " Motegi            119\n",
       " Mugello           118\n",
       " Losail            115\n",
       " Río Hondo         115\n",
       " Sachsenring       114\n",
       " Texas             113\n",
       " Phillip Island    113\n",
       " Assen             112\n",
       " Sepang            111\n",
       " Silverstone        90\n",
       " Buriram            45\n",
       " Indianapolis       23\n",
       " Algarve            22\n",
       " Name: count, dtype: int64,\n",
       " country\n",
       " ES    885\n",
       " IT    509\n",
       " GB    275\n",
       " FR    178\n",
       " AU    109\n",
       " DE     67\n",
       " CZ     65\n",
       " JP     63\n",
       " MY     37\n",
       " IE     36\n",
       " CO     36\n",
       " PT     30\n",
       " US     20\n",
       " CH     18\n",
       " BE     17\n",
       " SM     14\n",
       " FI     14\n",
       " ZA     14\n",
       " NL      2\n",
       " Name: count, dtype: int64,\n",
       " Series([], Name: count, dtype: int64))"
      ]
     },
     "execution_count": 64,
     "metadata": {},
     "output_type": "execute_result"
    }
   ],
   "source": [
    "races['circuit_name'].value_counts(), races['country'].value_counts(), races['speed'].value_counts()"
   ]
  },
  {
   "cell_type": "code",
   "execution_count": 65,
   "id": "102c76fc-fc21-4acd-bafc-cc4ea248cff0",
   "metadata": {},
   "outputs": [
    {
     "name": "stdout",
     "output_type": "stream",
     "text": [
      "{'circuit_name': {'Algarve': 0, 'Aragón': 1, 'Assen': 2, 'Brno': 3, 'Buriram': 4, 'Catalunya': 5, 'Indianapolis': 6, 'Jerez': 7, 'Le Mans': 8, 'Losail': 9, 'Misano': 10, 'Motegi': 11, 'Mugello': 12, 'Phillip Island': 13, 'Ricardo Tormo': 14, 'Río Hondo': 15, 'Sachsenring': 16, 'Sepang': 17, 'Silverstone': 18, 'Spielberg': 19, 'Texas': 20}, 'country': {'AU': 0, 'BE': 1, 'CH': 2, 'CO': 3, 'CZ': 4, 'DE': 5, 'ES': 6, 'FI': 7, 'FR': 8, 'GB': 9, 'IE': 10, 'IT': 11, 'JP': 12, 'MY': 13, 'NL': 14, 'PT': 15, 'SM': 16, 'US': 17, 'ZA': 18}, 'speed': {'None': 0}}\n"
     ]
    },
    {
     "data": {
      "text/html": [
       "<div>\n",
       "<style scoped>\n",
       "    .dataframe tbody tr th:only-of-type {\n",
       "        vertical-align: middle;\n",
       "    }\n",
       "\n",
       "    .dataframe tbody tr th {\n",
       "        vertical-align: top;\n",
       "    }\n",
       "\n",
       "    .dataframe thead th {\n",
       "        text-align: right;\n",
       "    }\n",
       "</style>\n",
       "<table border=\"1\" class=\"dataframe\">\n",
       "  <thead>\n",
       "    <tr style=\"text-align: right;\">\n",
       "      <th></th>\n",
       "      <th>circuit_name</th>\n",
       "      <th>position</th>\n",
       "      <th>country</th>\n",
       "      <th>speed</th>\n",
       "    </tr>\n",
       "  </thead>\n",
       "  <tbody>\n",
       "    <tr>\n",
       "      <th>0</th>\n",
       "      <td>9</td>\n",
       "      <td>1</td>\n",
       "      <td>11</td>\n",
       "      <td>0</td>\n",
       "    </tr>\n",
       "    <tr>\n",
       "      <th>1</th>\n",
       "      <td>9</td>\n",
       "      <td>2</td>\n",
       "      <td>11</td>\n",
       "      <td>0</td>\n",
       "    </tr>\n",
       "    <tr>\n",
       "      <th>2</th>\n",
       "      <td>9</td>\n",
       "      <td>3</td>\n",
       "      <td>11</td>\n",
       "      <td>0</td>\n",
       "    </tr>\n",
       "    <tr>\n",
       "      <th>3</th>\n",
       "      <td>9</td>\n",
       "      <td>4</td>\n",
       "      <td>6</td>\n",
       "      <td>0</td>\n",
       "    </tr>\n",
       "    <tr>\n",
       "      <th>4</th>\n",
       "      <td>9</td>\n",
       "      <td>5</td>\n",
       "      <td>6</td>\n",
       "      <td>0</td>\n",
       "    </tr>\n",
       "  </tbody>\n",
       "</table>\n",
       "</div>"
      ],
      "text/plain": [
       "   circuit_name  position  country  speed\n",
       "0             9         1       11      0\n",
       "1             9         2       11      0\n",
       "2             9         3       11      0\n",
       "3             9         4        6      0\n",
       "4             9         5        6      0"
      ]
     },
     "execution_count": 65,
     "metadata": {},
     "output_type": "execute_result"
    }
   ],
   "source": [
    "from sklearn.preprocessing import LabelEncoder\n",
    "mapping = {}\n",
    "\n",
    "for cat in races:\n",
    "    if races[cat].dtype == 'object':\n",
    "        le = LabelEncoder()\n",
    "        le.fit(list(races[cat].astype(str)))\n",
    "        races[cat] = le.transform(races[cat].astype(str))\n",
    "        le_name_mapping = dict(zip(le.classes_, le.transform(le.classes_)))\n",
    "        mapping.update({cat: le_name_mapping})\n",
    "\n",
    "print(mapping)\n",
    "races.head()"
   ]
  },
  {
   "cell_type": "code",
   "execution_count": 66,
   "id": "3c02a839-42e3-4a78-9a55-0f3ca68f2f32",
   "metadata": {},
   "outputs": [],
   "source": [
    "from sklearn.ensemble import RandomForestClassifier\n",
    "from sklearn.model_selection import train_test_split"
   ]
  },
  {
   "cell_type": "code",
   "execution_count": 67,
   "id": "207e405f-a142-4738-9fb2-bfe682a32ec4",
   "metadata": {},
   "outputs": [],
   "source": [
    "rf = RandomForestClassifier(n_estimators=50, min_samples_split=10, random_state=1)"
   ]
  },
  {
   "cell_type": "code",
   "execution_count": 68,
   "id": "a2e252c9-2105-460f-bca7-edd3e546c676",
   "metadata": {},
   "outputs": [
    {
     "name": "stdout",
     "output_type": "stream",
     "text": [
      "<class 'pandas.core.frame.DataFrame'>\n",
      "RangeIndex: 2389 entries, 0 to 2388\n",
      "Data columns (total 3 columns):\n",
      " #   Column        Non-Null Count  Dtype\n",
      "---  ------        --------------  -----\n",
      " 0   circuit_name  2389 non-null   int32\n",
      " 1   country       2389 non-null   int32\n",
      " 2   speed         2389 non-null   int32\n",
      "dtypes: int32(3)\n",
      "memory usage: 28.1 KB\n"
     ]
    },
    {
     "data": {
      "text/plain": [
       "position\n",
       "-1     428\n",
       " 1     105\n",
       " 3     105\n",
       " 4     105\n",
       " 5     105\n",
       " 6     105\n",
       " 7     105\n",
       " 8     105\n",
       " 9     105\n",
       " 10    105\n",
       " 11    105\n",
       " 12    105\n",
       " 13    105\n",
       " 2     105\n",
       " 14     99\n",
       " 15     97\n",
       " 16     90\n",
       " 17     84\n",
       " 18     65\n",
       " 19     45\n",
       "-4      41\n",
       " 20     35\n",
       " 21     21\n",
       " 22     11\n",
       "-2       3\n",
       " 23      2\n",
       "-5       2\n",
       "-3       1\n",
       "Name: count, dtype: int64"
      ]
     },
     "execution_count": 68,
     "metadata": {},
     "output_type": "execute_result"
    }
   ],
   "source": [
    "X = races.drop(['position'], axis=1)\n",
    "Y = races['position']\n",
    "\n",
    "X.info()\n",
    "Y.value_counts()\n"
   ]
  },
  {
   "cell_type": "code",
   "execution_count": 69,
   "id": "ef7f885a-03cf-4406-8ac2-bdb76b1ee99b",
   "metadata": {},
   "outputs": [
    {
     "data": {
      "text/html": [
       "<style>#sk-container-id-3 {color: black;background-color: white;}#sk-container-id-3 pre{padding: 0;}#sk-container-id-3 div.sk-toggleable {background-color: white;}#sk-container-id-3 label.sk-toggleable__label {cursor: pointer;display: block;width: 100%;margin-bottom: 0;padding: 0.3em;box-sizing: border-box;text-align: center;}#sk-container-id-3 label.sk-toggleable__label-arrow:before {content: \"▸\";float: left;margin-right: 0.25em;color: #696969;}#sk-container-id-3 label.sk-toggleable__label-arrow:hover:before {color: black;}#sk-container-id-3 div.sk-estimator:hover label.sk-toggleable__label-arrow:before {color: black;}#sk-container-id-3 div.sk-toggleable__content {max-height: 0;max-width: 0;overflow: hidden;text-align: left;background-color: #f0f8ff;}#sk-container-id-3 div.sk-toggleable__content pre {margin: 0.2em;color: black;border-radius: 0.25em;background-color: #f0f8ff;}#sk-container-id-3 input.sk-toggleable__control:checked~div.sk-toggleable__content {max-height: 200px;max-width: 100%;overflow: auto;}#sk-container-id-3 input.sk-toggleable__control:checked~label.sk-toggleable__label-arrow:before {content: \"▾\";}#sk-container-id-3 div.sk-estimator input.sk-toggleable__control:checked~label.sk-toggleable__label {background-color: #d4ebff;}#sk-container-id-3 div.sk-label input.sk-toggleable__control:checked~label.sk-toggleable__label {background-color: #d4ebff;}#sk-container-id-3 input.sk-hidden--visually {border: 0;clip: rect(1px 1px 1px 1px);clip: rect(1px, 1px, 1px, 1px);height: 1px;margin: -1px;overflow: hidden;padding: 0;position: absolute;width: 1px;}#sk-container-id-3 div.sk-estimator {font-family: monospace;background-color: #f0f8ff;border: 1px dotted black;border-radius: 0.25em;box-sizing: border-box;margin-bottom: 0.5em;}#sk-container-id-3 div.sk-estimator:hover {background-color: #d4ebff;}#sk-container-id-3 div.sk-parallel-item::after {content: \"\";width: 100%;border-bottom: 1px solid gray;flex-grow: 1;}#sk-container-id-3 div.sk-label:hover label.sk-toggleable__label {background-color: #d4ebff;}#sk-container-id-3 div.sk-serial::before {content: \"\";position: absolute;border-left: 1px solid gray;box-sizing: border-box;top: 0;bottom: 0;left: 50%;z-index: 0;}#sk-container-id-3 div.sk-serial {display: flex;flex-direction: column;align-items: center;background-color: white;padding-right: 0.2em;padding-left: 0.2em;position: relative;}#sk-container-id-3 div.sk-item {position: relative;z-index: 1;}#sk-container-id-3 div.sk-parallel {display: flex;align-items: stretch;justify-content: center;background-color: white;position: relative;}#sk-container-id-3 div.sk-item::before, #sk-container-id-3 div.sk-parallel-item::before {content: \"\";position: absolute;border-left: 1px solid gray;box-sizing: border-box;top: 0;bottom: 0;left: 50%;z-index: -1;}#sk-container-id-3 div.sk-parallel-item {display: flex;flex-direction: column;z-index: 1;position: relative;background-color: white;}#sk-container-id-3 div.sk-parallel-item:first-child::after {align-self: flex-end;width: 50%;}#sk-container-id-3 div.sk-parallel-item:last-child::after {align-self: flex-start;width: 50%;}#sk-container-id-3 div.sk-parallel-item:only-child::after {width: 0;}#sk-container-id-3 div.sk-dashed-wrapped {border: 1px dashed gray;margin: 0 0.4em 0.5em 0.4em;box-sizing: border-box;padding-bottom: 0.4em;background-color: white;}#sk-container-id-3 div.sk-label label {font-family: monospace;font-weight: bold;display: inline-block;line-height: 1.2em;}#sk-container-id-3 div.sk-label-container {text-align: center;}#sk-container-id-3 div.sk-container {/* jupyter's `normalize.less` sets `[hidden] { display: none; }` but bootstrap.min.css set `[hidden] { display: none !important; }` so we also need the `!important` here to be able to override the default hidden behavior on the sphinx rendered scikit-learn.org. See: https://github.com/scikit-learn/scikit-learn/issues/21755 */display: inline-block !important;position: relative;}#sk-container-id-3 div.sk-text-repr-fallback {display: none;}</style><div id=\"sk-container-id-3\" class=\"sk-top-container\"><div class=\"sk-text-repr-fallback\"><pre>RandomForestClassifier(min_samples_split=10, n_estimators=50, random_state=1)</pre><b>In a Jupyter environment, please rerun this cell to show the HTML representation or trust the notebook. <br />On GitHub, the HTML representation is unable to render, please try loading this page with nbviewer.org.</b></div><div class=\"sk-container\" hidden><div class=\"sk-item\"><div class=\"sk-estimator sk-toggleable\"><input class=\"sk-toggleable__control sk-hidden--visually\" id=\"sk-estimator-id-3\" type=\"checkbox\" checked><label for=\"sk-estimator-id-3\" class=\"sk-toggleable__label sk-toggleable__label-arrow\">RandomForestClassifier</label><div class=\"sk-toggleable__content\"><pre>RandomForestClassifier(min_samples_split=10, n_estimators=50, random_state=1)</pre></div></div></div></div></div>"
      ],
      "text/plain": [
       "RandomForestClassifier(min_samples_split=10, n_estimators=50, random_state=1)"
      ]
     },
     "execution_count": 69,
     "metadata": {},
     "output_type": "execute_result"
    }
   ],
   "source": [
    "X_train, X_test, Y_train, Y_test = train_test_split(X, Y, test_size=0.2, random_state=1)\n",
    "\n",
    "rf.fit(X_train, Y_train)"
   ]
  },
  {
   "cell_type": "code",
   "execution_count": 70,
   "id": "1dbafa07",
   "metadata": {},
   "outputs": [
    {
     "name": "stdout",
     "output_type": "stream",
     "text": [
      "Accuracy: 0.13179916317991633\n",
      "              precision    recall  f1-score   support\n",
      "\n",
      "          -4       0.00      0.00      0.00         7\n",
      "          -2       0.00      0.00      0.00         1\n",
      "          -1       0.22      0.59      0.32        93\n",
      "           1       0.03      0.05      0.04        19\n",
      "           2       0.00      0.00      0.00        17\n",
      "           3       0.00      0.00      0.00        21\n",
      "           4       0.00      0.00      0.00        26\n",
      "           5       0.00      0.00      0.00        21\n",
      "           6       0.05      0.04      0.05        23\n",
      "           7       0.33      0.03      0.06        29\n",
      "           8       0.00      0.00      0.00        22\n",
      "           9       0.00      0.00      0.00        22\n",
      "          10       0.00      0.00      0.00        18\n",
      "          11       0.00      0.00      0.00        23\n",
      "          12       0.00      0.00      0.00        16\n",
      "          13       0.00      0.00      0.00        25\n",
      "          14       0.00      0.00      0.00        10\n",
      "          15       0.00      0.00      0.00        19\n",
      "          16       0.25      0.12      0.16        17\n",
      "          17       0.12      0.14      0.13        14\n",
      "          18       0.00      0.00      0.00        11\n",
      "          19       0.25      0.09      0.13        11\n",
      "          20       0.00      0.00      0.00         6\n",
      "          21       0.00      0.00      0.00         4\n",
      "          22       0.00      0.00      0.00         2\n",
      "          23       0.00      0.00      0.00         1\n",
      "\n",
      "    accuracy                           0.13       478\n",
      "   macro avg       0.05      0.04      0.03       478\n",
      "weighted avg       0.08      0.13      0.08       478\n",
      "\n"
     ]
    },
    {
     "name": "stderr",
     "output_type": "stream",
     "text": [
      "C:\\Users\\LENOVO\\anaconda3\\Lib\\site-packages\\sklearn\\metrics\\_classification.py:1344: UndefinedMetricWarning: Precision and F-score are ill-defined and being set to 0.0 in labels with no predicted samples. Use `zero_division` parameter to control this behavior.\n",
      "  _warn_prf(average, modifier, msg_start, len(result))\n",
      "C:\\Users\\LENOVO\\anaconda3\\Lib\\site-packages\\sklearn\\metrics\\_classification.py:1344: UndefinedMetricWarning: Precision and F-score are ill-defined and being set to 0.0 in labels with no predicted samples. Use `zero_division` parameter to control this behavior.\n",
      "  _warn_prf(average, modifier, msg_start, len(result))\n",
      "C:\\Users\\LENOVO\\anaconda3\\Lib\\site-packages\\sklearn\\metrics\\_classification.py:1344: UndefinedMetricWarning: Precision and F-score are ill-defined and being set to 0.0 in labels with no predicted samples. Use `zero_division` parameter to control this behavior.\n",
      "  _warn_prf(average, modifier, msg_start, len(result))\n"
     ]
    }
   ],
   "source": [
    "from sklearn.metrics import accuracy_score\n",
    "\n",
    "Y_pred = rf.predict(X_test)\n",
    "print('Accuracy:', accuracy_score(Y_test, Y_pred))\n",
    "\n",
    "from sklearn.metrics import classification_report\n",
    "print(classification_report(Y_test, Y_pred))"
   ]
  },
  {
   "cell_type": "code",
   "execution_count": 71,
   "id": "d0ae6e6d",
   "metadata": {},
   "outputs": [
    {
     "name": "stdout",
     "output_type": "stream",
     "text": [
      "A man race with other racer in Circuit Indianapolis in JP with speed 160 km/h will finish in position 10\n"
     ]
    }
   ],
   "source": [
    "input_data = {\n",
    "    'circuit_name': 'Indianapolis',\n",
    "    'country': 'JP',\n",
    "    'speed': 160\n",
    "}\n",
    "\n",
    "input_data = pd.DataFrame(input_data, index=[0])\n",
    "input_data_dec = input_data.copy()\n",
    "\n",
    "input_data_dec['circuit_name'] = input_data_dec['circuit_name'].map(mapping['circuit_name'])\n",
    "input_data_dec['country'] = input_data_dec['country'].map(mapping['country'])\n",
    "\n",
    "prediction = rf.predict(input_data_dec)\n",
    "print(f'A man race with other racer in Circuit {input_data[\"circuit_name\"].values[0]} in {input_data[\"country\"].values[0]} with speed {input_data[\"speed\"].values[0]} km/h will finish in position {prediction[0]}')"
   ]
  }
 ],
 "metadata": {
  "kernelspec": {
   "display_name": "Python 3 (ipykernel)",
   "language": "python",
   "name": "python3"
  },
  "language_info": {
   "codemirror_mode": {
    "name": "ipython",
    "version": 3
   },
   "file_extension": ".py",
   "mimetype": "text/x-python",
   "name": "python",
   "nbconvert_exporter": "python",
   "pygments_lexer": "ipython3",
   "version": "3.11.7"
  }
 },
 "nbformat": 4,
 "nbformat_minor": 5
}
